{
 "cells": [
  {
   "cell_type": "markdown",
   "metadata": {},
   "source": [
    "# Kaggle\n",
    "## Competição DSA de Machine Learning - Dezembro 2019\n"
   ]
  },
  {
   "cell_type": "markdown",
   "metadata": {},
   "source": [
    "# Importando as bibliotecas"
   ]
  },
  {
   "cell_type": "code",
   "execution_count": 132,
   "metadata": {},
   "outputs": [],
   "source": [
    "import sys \n",
    "import numpy as np\n",
    "from scipy.stats import randint\n",
    "import pandas as pd\n",
    "import matplotlib.pyplot as plt\n",
    "import seaborn as sns\n",
    "\n",
    "\n",
    "# Importa pacotes do sklearn\n",
    "from sklearn.random_projection import GaussianRandomProjection\n",
    "from sklearn.random_projection import SparseRandomProjection\n",
    "from sklearn.decomposition import PCA, FastICA\n",
    "from sklearn.decomposition import TruncatedSVD\n",
    "from sklearn.preprocessing import StandardScaler, MinMaxScaler\n",
    "from sklearn.impute import SimpleImputer\n",
    "from sklearn.preprocessing import LabelEncoder\n",
    "from sklearn.preprocessing import PolynomialFeatures\n",
    "from sklearn.ensemble import RandomForestClassifier\n",
    "\n",
    "import warnings\n",
    "warnings.filterwarnings(\"ignore\", category=FutureWarning)\n",
    "\n",
    "# Seta algumas opções no Jupyter para exibição dos datasets\n",
    "pd.set_option('display.max_columns', 2000)\n",
    "pd.set_option('display.max_rows', 2000)"
   ]
  },
  {
   "cell_type": "markdown",
   "metadata": {},
   "source": [
    "# Carregando os dados de treino e teste"
   ]
  },
  {
   "cell_type": "code",
   "execution_count": 2,
   "metadata": {},
   "outputs": [],
   "source": [
    "def read_data():\n",
    "    print('Carregando arquivo dataset_treino.csv....')\n",
    "    train = pd.read_csv('../dataset/dataset_treino.csv')\n",
    "    print('dataset_treino.csv tem {} linhas and {} colunas'.format(train.shape[0], train.shape[1]))\n",
    "\n",
    "    print('Carregando arquivo dataset_teste.csv....')\n",
    "    test = pd.read_csv('../dataset/dataset_teste.csv')\n",
    "    print('dataset_teste.csv tem {} linhas and {} colunas'.format(test.shape[0], test.shape[1]))\n",
    "\n",
    "    return train, test"
   ]
  },
  {
   "cell_type": "code",
   "execution_count": 3,
   "metadata": {
    "_cell_guid": "79c7e3d0-c299-4dcb-8224-4455121ee9b0",
    "_uuid": "d629ff2d2480ee46fbb7e2d37f6b5fab8052498a"
   },
   "outputs": [
    {
     "name": "stdout",
     "output_type": "stream",
     "text": [
      "Carregando arquivo dataset_treino.csv....\n",
      "dataset_treino.csv tem 114321 linhas and 133 colunas\n",
      "Carregando arquivo dataset_teste.csv....\n",
      "dataset_teste.csv tem 114393 linhas and 132 colunas\n"
     ]
    }
   ],
   "source": [
    "# Leitura dos dados\n",
    "train, test = read_data()"
   ]
  },
  {
   "cell_type": "markdown",
   "metadata": {},
   "source": [
    "# Feature Engineering"
   ]
  },
  {
   "cell_type": "markdown",
   "metadata": {},
   "source": [
    "#### Remover colunas com alta correlação entre si"
   ]
  },
  {
   "cell_type": "code",
   "execution_count": 4,
   "metadata": {},
   "outputs": [],
   "source": [
    "# Remove colunas com alta correlacao entre si ou com mais de 95% com zeros\n",
    "train = train.drop(columns = ['v12','v128','v13','v25','v32','v33','v34','v38','v41','v43','v46',\n",
    "                              'v49','v53','v54','v55','v60','v63','v64','v65','v67','v73','v76','v77',\n",
    "                              'v8','v83','v87','v89','v95','v96','v97'], axis = 1)\n",
    "\n",
    "teste = test.drop(columns = ['v12','v128','v13','v25','v32','v33','v34','v38','v41','v43','v46',\n",
    "                              'v49','v53','v54','v55','v60','v63','v64','v65','v67','v73','v76','v77',\n",
    "                              'v8','v83','v87','v89','v95','v96','v97'], axis = 1)"
   ]
  },
  {
   "cell_type": "markdown",
   "metadata": {},
   "source": [
    "#### Label Encoding and One-Hot Encoding\n",
    "Let's implement the policy described above: for any categorical variable (dtype == object) with 2 unique categories, we will use label encoding, and for any categorical variable with more than 3 unique categories, we will use one-hot encoding.\n",
    "\n",
    "For label encoding, we use the Scikit-Learn LabelEncoder and for one-hot encoding, the pandas get_dummies(df) function."
   ]
  },
  {
   "cell_type": "raw",
   "metadata": {},
   "source": [
    "# Create a label encoder object\n",
    "le = LabelEncoder()\n",
    "le_count = 0\n",
    "\n",
    "# Iterate through the columns\n",
    "for col in train:\n",
    "    if train[col].dtype == 'object':\n",
    "        # If 2 or fewer unique categories\n",
    "        if len(list(train[col].unique())) <= 3:\n",
    "            # Train on the training data\n",
    "            le.fit(train[col])\n",
    "            # Transform both training and testing data\n",
    "            train[col] = le.transform(train[col])\n",
    "            test[col] = le.transform(test[col])\n",
    "            \n",
    "            # Keep track of how many columns were label encoded\n",
    "            le_count += 1\n",
    "            \n",
    "print('%d columns were label encoded.' % le_count)"
   ]
  },
  {
   "cell_type": "markdown",
   "metadata": {},
   "source": [
    "### Correlations"
   ]
  },
  {
   "cell_type": "code",
   "execution_count": 5,
   "metadata": {
    "scrolled": true
   },
   "outputs": [
    {
     "name": "stdout",
     "output_type": "stream",
     "text": [
      "Most Positive Correlations:\n",
      " v44       0.046616\n",
      "v17       0.047620\n",
      "v61       0.047781\n",
      "v101      0.050835\n",
      "v93       0.051708\n",
      "v106      0.054226\n",
      "v4        0.059842\n",
      "v21       0.067634\n",
      "v72       0.075241\n",
      "v114      0.075786\n",
      "v14       0.130670\n",
      "v129      0.142141\n",
      "v10       0.148680\n",
      "v50       0.241683\n",
      "target    1.000000\n",
      "Name: target, dtype: float64\n",
      "\n",
      "Most Negative Correlations:\n",
      " v62    -0.093709\n",
      "v119   -0.058578\n",
      "v123   -0.055940\n",
      "v48    -0.055493\n",
      "v85    -0.050820\n",
      "v51    -0.049183\n",
      "v130   -0.046252\n",
      "v121   -0.044467\n",
      "v36    -0.040873\n",
      "v111   -0.040860\n",
      "v84    -0.040008\n",
      "v23    -0.032675\n",
      "v15    -0.032436\n",
      "v58    -0.032392\n",
      "v81    -0.031728\n",
      "Name: target, dtype: float64\n"
     ]
    }
   ],
   "source": [
    "# Find correlations with the target and sort\n",
    "correlations = train.corr()['target'].sort_values()\n",
    "\n",
    "# Display correlations\n",
    "print('Most Positive Correlations:\\n', correlations.tail(15))\n",
    "print('\\nMost Negative Correlations:\\n', correlations.head(15))\n"
   ]
  },
  {
   "cell_type": "raw",
   "metadata": {},
   "source": [
    "# one-hot encoding of categorical variables\n",
    "train = pd.get_dummies(train)\n",
    "test = pd.get_dummies(test)\n",
    "\n",
    "print('Training Features shape: ', train.shape)\n",
    "print('Testing Features shape: ', test.shape)"
   ]
  },
  {
   "cell_type": "markdown",
   "metadata": {},
   "source": [
    "#### Aligning Training and Testing Data\n",
    "There need to be the same features (columns) in both the training and testing data. One-hot encoding has created more columns in the training data because there were some categorical variables with categories not represented in the testing data. To remove the columns in the training data that are not in the testing data, we need to align the dataframes. First we extract the target column from the training data (because this is not in the testing data but we need to keep this information). When we do the align, we must make sure to set axis = 1 to align the dataframes based on the columns and not on the rows!"
   ]
  },
  {
   "cell_type": "raw",
   "metadata": {},
   "source": [
    "train_labels = train['target']\n",
    "\n",
    "# Align the training and testing data, keep only columns present in both dataframes\n",
    "train, test = train.align(test, join = 'inner', axis = 1)\n",
    "\n",
    "# Add the target back in\n",
    "train['target'] = train_labels\n",
    "\n",
    "print('Training Features shape: ', train.shape)\n",
    "print('Testing Features shape: ', test.shape)"
   ]
  },
  {
   "cell_type": "markdown",
   "metadata": {},
   "source": [
    "The training and testing datasets now have the same features which is required for machine learning. The number of features has grown significantly due to one-hot encoding. At some point we probably will want to try dimensionality reduction (removing features that are not relevant) to reduce the size of the datasets."
   ]
  },
  {
   "cell_type": "markdown",
   "metadata": {},
   "source": [
    "#### Polynomial Features"
   ]
  },
  {
   "cell_type": "code",
   "execution_count": 6,
   "metadata": {},
   "outputs": [
    {
     "data": {
      "text/html": [
       "<div>\n",
       "<style scoped>\n",
       "    .dataframe tbody tr th:only-of-type {\n",
       "        vertical-align: middle;\n",
       "    }\n",
       "\n",
       "    .dataframe tbody tr th {\n",
       "        vertical-align: top;\n",
       "    }\n",
       "\n",
       "    .dataframe thead th {\n",
       "        text-align: right;\n",
       "    }\n",
       "</style>\n",
       "<table border=\"1\" class=\"dataframe\">\n",
       "  <thead>\n",
       "    <tr style=\"text-align: right;\">\n",
       "      <th></th>\n",
       "      <th>v62</th>\n",
       "      <th>v119</th>\n",
       "      <th>v123</th>\n",
       "      <th>v48</th>\n",
       "      <th>v85</th>\n",
       "      <th>target</th>\n",
       "    </tr>\n",
       "  </thead>\n",
       "  <tbody>\n",
       "    <tr>\n",
       "      <td>v62</td>\n",
       "      <td>1.000000</td>\n",
       "      <td>0.038324</td>\n",
       "      <td>0.030082</td>\n",
       "      <td>0.066794</td>\n",
       "      <td>0.011791</td>\n",
       "      <td>-0.093709</td>\n",
       "    </tr>\n",
       "    <tr>\n",
       "      <td>v119</td>\n",
       "      <td>0.038324</td>\n",
       "      <td>1.000000</td>\n",
       "      <td>0.862810</td>\n",
       "      <td>0.659285</td>\n",
       "      <td>0.692524</td>\n",
       "      <td>-0.058578</td>\n",
       "    </tr>\n",
       "    <tr>\n",
       "      <td>v123</td>\n",
       "      <td>0.030082</td>\n",
       "      <td>0.862810</td>\n",
       "      <td>1.000000</td>\n",
       "      <td>0.737839</td>\n",
       "      <td>0.776371</td>\n",
       "      <td>-0.055940</td>\n",
       "    </tr>\n",
       "    <tr>\n",
       "      <td>v48</td>\n",
       "      <td>0.066794</td>\n",
       "      <td>0.659285</td>\n",
       "      <td>0.737839</td>\n",
       "      <td>1.000000</td>\n",
       "      <td>0.621627</td>\n",
       "      <td>-0.055493</td>\n",
       "    </tr>\n",
       "    <tr>\n",
       "      <td>v85</td>\n",
       "      <td>0.011791</td>\n",
       "      <td>0.692524</td>\n",
       "      <td>0.776371</td>\n",
       "      <td>0.621627</td>\n",
       "      <td>1.000000</td>\n",
       "      <td>-0.050820</td>\n",
       "    </tr>\n",
       "    <tr>\n",
       "      <td>target</td>\n",
       "      <td>-0.093709</td>\n",
       "      <td>-0.058578</td>\n",
       "      <td>-0.055940</td>\n",
       "      <td>-0.055493</td>\n",
       "      <td>-0.050820</td>\n",
       "      <td>1.000000</td>\n",
       "    </tr>\n",
       "  </tbody>\n",
       "</table>\n",
       "</div>"
      ],
      "text/plain": [
       "             v62      v119      v123       v48       v85    target\n",
       "v62     1.000000  0.038324  0.030082  0.066794  0.011791 -0.093709\n",
       "v119    0.038324  1.000000  0.862810  0.659285  0.692524 -0.058578\n",
       "v123    0.030082  0.862810  1.000000  0.737839  0.776371 -0.055940\n",
       "v48     0.066794  0.659285  0.737839  1.000000  0.621627 -0.055493\n",
       "v85     0.011791  0.692524  0.776371  0.621627  1.000000 -0.050820\n",
       "target -0.093709 -0.058578 -0.055940 -0.055493 -0.050820  1.000000"
      ]
     },
     "execution_count": 6,
     "metadata": {},
     "output_type": "execute_result"
    }
   ],
   "source": [
    "poly_data = train[['v62', 'v119', 'v123', 'v48', 'v85','target']]\n",
    "poly_data_corrs = poly_data.corr()\n",
    "poly_data_corrs"
   ]
  },
  {
   "cell_type": "code",
   "execution_count": 7,
   "metadata": {},
   "outputs": [
    {
     "data": {
      "image/png": "[encoded data removed]",
      "text/plain": [
       "<Figure size 1296x432 with 2 Axes>"
      ]
     },
     "metadata": {
      "needs_background": "light"
     },
     "output_type": "display_data"
    }
   ],
   "source": [
    "plt.figure(figsize = (18, 6))\n",
    "\n",
    "# Heatmap of correlations\n",
    "sns.heatmap(poly_data_corrs, cmap = plt.cm.RdYlBu_r, vmin = -0.25, annot = True, vmax = 0.6, fmt='.4g')\n",
    "plt.title('Correlation Heatmap');\n"
   ]
  },
  {
   "cell_type": "code",
   "execution_count": 8,
   "metadata": {},
   "outputs": [],
   "source": [
    "# Make a new dataframe for polynomial features\n",
    "poly_features = train[['v62', 'v119', 'v123', 'v48', 'v85', 'target']]\n",
    "poly_features_test = test[['v62', 'v119', 'v123', 'v48', 'v85']]\n",
    "\n",
    "# imputer for handling missing values\n",
    "imputer = SimpleImputer(strategy = 'median')\n",
    "\n",
    "poly_target = poly_features['target']\n",
    "\n",
    "poly_features = poly_features.drop(columns = ['target'], axis = 1)\n",
    "\n",
    "# Need to impute missing values\n",
    "poly_features = imputer.fit_transform(poly_features)\n",
    "poly_features_test = imputer.transform(poly_features_test)\n",
    "\n",
    "                                  \n",
    "# Create the polynomial object with specified degree\n",
    "poly_transformer = PolynomialFeatures(degree = 2)"
   ]
  },
  {
   "cell_type": "code",
   "execution_count": 9,
   "metadata": {},
   "outputs": [
    {
     "name": "stdout",
     "output_type": "stream",
     "text": [
      "Polynomial Features shape:  (114321, 21)\n"
     ]
    }
   ],
   "source": [
    "# Train the polynomial features\n",
    "poly_transformer.fit(poly_features)\n",
    "\n",
    "# Transform the features\n",
    "poly_features = poly_transformer.transform(poly_features)\n",
    "poly_features_test = poly_transformer.transform(poly_features_test)\n",
    "print('Polynomial Features shape: ', poly_features.shape)"
   ]
  },
  {
   "cell_type": "markdown",
   "metadata": {},
   "source": [
    "This creates a considerable number of new features. To get the names we have to use the polynomial features get_feature_names method."
   ]
  },
  {
   "cell_type": "code",
   "execution_count": 10,
   "metadata": {
    "scrolled": true
   },
   "outputs": [
    {
     "name": "stdout",
     "output_type": "stream",
     "text": [
      "['1', 'v62', 'v119', 'v123', 'v48', 'v85', 'v62^2', 'v62 v119', 'v62 v123', 'v62 v48', 'v62 v85', 'v119^2', 'v119 v123', 'v119 v48', 'v119 v85']\n"
     ]
    }
   ],
   "source": [
    "print(poly_transformer.get_feature_names(input_features = ['v62', 'v119', 'v123', 'v48', 'v85'])[:15])"
   ]
  },
  {
   "cell_type": "code",
   "execution_count": 11,
   "metadata": {},
   "outputs": [
    {
     "name": "stdout",
     "output_type": "stream",
     "text": [
      "v62 v48    -0.097531\n",
      "v62 v85    -0.096424\n",
      "v62        -0.093709\n",
      "v62 v123   -0.088911\n",
      "v62 v119   -0.068526\n",
      "v119       -0.047535\n",
      "v119 v48   -0.046606\n",
      "v123       -0.045113\n",
      "v119 v85   -0.044697\n",
      "v123 v48   -0.044665\n",
      "Name: target, dtype: float64\n",
      "v123^2   -0.039056\n",
      "v85^2    -0.037538\n",
      "v62^2    -0.035026\n",
      "target    1.000000\n",
      "1              NaN\n",
      "Name: target, dtype: float64\n"
     ]
    }
   ],
   "source": [
    "# Create a dataframe of the features \n",
    "poly_features = pd.DataFrame(poly_features, \n",
    "                             columns = poly_transformer.get_feature_names(['v62', 'v119', 'v123', 'v48', 'v85']))\n",
    "\n",
    "# Add in the target\n",
    "poly_features['target'] = poly_target\n",
    "\n",
    "# Find the correlations with the target\n",
    "poly_corrs = poly_features.corr()['target'].sort_values()\n",
    "\n",
    "# Display most negative and most positive\n",
    "print(poly_corrs.head(10))\n",
    "print(poly_corrs.tail(5))"
   ]
  },
  {
   "cell_type": "code",
   "execution_count": 12,
   "metadata": {},
   "outputs": [
    {
     "data": {
      "text/html": [
       "<div>\n",
       "<style scoped>\n",
       "    .dataframe tbody tr th:only-of-type {\n",
       "        vertical-align: middle;\n",
       "    }\n",
       "\n",
       "    .dataframe tbody tr th {\n",
       "        vertical-align: top;\n",
       "    }\n",
       "\n",
       "    .dataframe thead th {\n",
       "        text-align: right;\n",
       "    }\n",
       "</style>\n",
       "<table border=\"1\" class=\"dataframe\">\n",
       "  <thead>\n",
       "    <tr style=\"text-align: right;\">\n",
       "      <th></th>\n",
       "      <th>1</th>\n",
       "      <th>v62</th>\n",
       "      <th>v119</th>\n",
       "      <th>v123</th>\n",
       "      <th>v48</th>\n",
       "      <th>v85</th>\n",
       "      <th>v62^2</th>\n",
       "      <th>v62 v119</th>\n",
       "      <th>v62 v123</th>\n",
       "      <th>v62 v48</th>\n",
       "      <th>v62 v85</th>\n",
       "      <th>v119^2</th>\n",
       "      <th>v119 v123</th>\n",
       "      <th>v119 v48</th>\n",
       "      <th>v119 v85</th>\n",
       "      <th>v123^2</th>\n",
       "      <th>v123 v48</th>\n",
       "      <th>v123 v85</th>\n",
       "      <th>v48^2</th>\n",
       "      <th>v48 v85</th>\n",
       "      <th>v85^2</th>\n",
       "      <th>target</th>\n",
       "    </tr>\n",
       "  </thead>\n",
       "  <tbody>\n",
       "    <tr>\n",
       "      <td>0</td>\n",
       "      <td>1.0</td>\n",
       "      <td>1.0</td>\n",
       "      <td>-6.297423e-07</td>\n",
       "      <td>1.989780</td>\n",
       "      <td>12.171733</td>\n",
       "      <td>1.707317</td>\n",
       "      <td>1.0</td>\n",
       "      <td>-6.297423e-07</td>\n",
       "      <td>1.989780</td>\n",
       "      <td>12.171733</td>\n",
       "      <td>1.707317</td>\n",
       "      <td>3.965754e-13</td>\n",
       "      <td>-1.253049e-06</td>\n",
       "      <td>-0.000008</td>\n",
       "      <td>-1.075170e-06</td>\n",
       "      <td>3.959225</td>\n",
       "      <td>24.219074</td>\n",
       "      <td>3.397185</td>\n",
       "      <td>148.151094</td>\n",
       "      <td>20.781006</td>\n",
       "      <td>2.914931</td>\n",
       "      <td>1</td>\n",
       "    </tr>\n",
       "    <tr>\n",
       "      <td>1</td>\n",
       "      <td>1.0</td>\n",
       "      <td>2.0</td>\n",
       "      <td>1.461561e+00</td>\n",
       "      <td>2.739239</td>\n",
       "      <td>12.411608</td>\n",
       "      <td>2.594937</td>\n",
       "      <td>4.0</td>\n",
       "      <td>2.923122e+00</td>\n",
       "      <td>5.478479</td>\n",
       "      <td>24.823216</td>\n",
       "      <td>5.189874</td>\n",
       "      <td>2.136160e+00</td>\n",
       "      <td>4.003565e+00</td>\n",
       "      <td>18.140321</td>\n",
       "      <td>3.792658e+00</td>\n",
       "      <td>7.503433</td>\n",
       "      <td>33.998366</td>\n",
       "      <td>7.108154</td>\n",
       "      <td>154.048010</td>\n",
       "      <td>32.207339</td>\n",
       "      <td>6.733697</td>\n",
       "      <td>1</td>\n",
       "    </tr>\n",
       "    <tr>\n",
       "      <td>2</td>\n",
       "      <td>1.0</td>\n",
       "      <td>1.0</td>\n",
       "      <td>-2.792745e-07</td>\n",
       "      <td>2.477596</td>\n",
       "      <td>12.711328</td>\n",
       "      <td>2.429906</td>\n",
       "      <td>1.0</td>\n",
       "      <td>-2.792745e-07</td>\n",
       "      <td>2.477596</td>\n",
       "      <td>12.711328</td>\n",
       "      <td>2.429906</td>\n",
       "      <td>7.799425e-14</td>\n",
       "      <td>-6.919293e-07</td>\n",
       "      <td>-0.000004</td>\n",
       "      <td>-6.786108e-07</td>\n",
       "      <td>6.138481</td>\n",
       "      <td>31.493532</td>\n",
       "      <td>6.020325</td>\n",
       "      <td>161.577852</td>\n",
       "      <td>30.887331</td>\n",
       "      <td>5.904443</td>\n",
       "      <td>1</td>\n",
       "    </tr>\n",
       "    <tr>\n",
       "      <td>3</td>\n",
       "      <td>1.0</td>\n",
       "      <td>1.0</td>\n",
       "      <td>5.655086e-01</td>\n",
       "      <td>1.812795</td>\n",
       "      <td>12.194855</td>\n",
       "      <td>1.587045</td>\n",
       "      <td>1.0</td>\n",
       "      <td>5.655086e-01</td>\n",
       "      <td>1.812795</td>\n",
       "      <td>12.194855</td>\n",
       "      <td>1.587045</td>\n",
       "      <td>3.198000e-01</td>\n",
       "      <td>1.025151e+00</td>\n",
       "      <td>6.896296</td>\n",
       "      <td>8.974875e-01</td>\n",
       "      <td>3.286226</td>\n",
       "      <td>22.106771</td>\n",
       "      <td>2.876987</td>\n",
       "      <td>148.714480</td>\n",
       "      <td>19.353779</td>\n",
       "      <td>2.518711</td>\n",
       "      <td>1</td>\n",
       "    </tr>\n",
       "    <tr>\n",
       "      <td>4</td>\n",
       "      <td>1.0</td>\n",
       "      <td>1.0</td>\n",
       "      <td>1.461561e+00</td>\n",
       "      <td>2.739239</td>\n",
       "      <td>12.411608</td>\n",
       "      <td>2.594937</td>\n",
       "      <td>1.0</td>\n",
       "      <td>1.461561e+00</td>\n",
       "      <td>2.739239</td>\n",
       "      <td>12.411608</td>\n",
       "      <td>2.594937</td>\n",
       "      <td>2.136160e+00</td>\n",
       "      <td>4.003565e+00</td>\n",
       "      <td>18.140321</td>\n",
       "      <td>3.792658e+00</td>\n",
       "      <td>7.503433</td>\n",
       "      <td>33.998366</td>\n",
       "      <td>7.108154</td>\n",
       "      <td>154.048010</td>\n",
       "      <td>32.207339</td>\n",
       "      <td>6.733697</td>\n",
       "      <td>1</td>\n",
       "    </tr>\n",
       "  </tbody>\n",
       "</table>\n",
       "</div>"
      ],
      "text/plain": [
       "     1  v62          v119      v123        v48       v85  v62^2      v62 v119  \\\n",
       "0  1.0  1.0 -6.297423e-07  1.989780  12.171733  1.707317    1.0 -6.297423e-07   \n",
       "1  1.0  2.0  1.461561e+00  2.739239  12.411608  2.594937    4.0  2.923122e+00   \n",
       "2  1.0  1.0 -2.792745e-07  2.477596  12.711328  2.429906    1.0 -2.792745e-07   \n",
       "3  1.0  1.0  5.655086e-01  1.812795  12.194855  1.587045    1.0  5.655086e-01   \n",
       "4  1.0  1.0  1.461561e+00  2.739239  12.411608  2.594937    1.0  1.461561e+00   \n",
       "\n",
       "   v62 v123    v62 v48   v62 v85        v119^2     v119 v123   v119 v48  \\\n",
       "0  1.989780  12.171733  1.707317  3.965754e-13 -1.253049e-06  -0.000008   \n",
       "1  5.478479  24.823216  5.189874  2.136160e+00  4.003565e+00  18.140321   \n",
       "2  2.477596  12.711328  2.429906  7.799425e-14 -6.919293e-07  -0.000004   \n",
       "3  1.812795  12.194855  1.587045  3.198000e-01  1.025151e+00   6.896296   \n",
       "4  2.739239  12.411608  2.594937  2.136160e+00  4.003565e+00  18.140321   \n",
       "\n",
       "       v119 v85    v123^2   v123 v48  v123 v85       v48^2    v48 v85  \\\n",
       "0 -1.075170e-06  3.959225  24.219074  3.397185  148.151094  20.781006   \n",
       "1  3.792658e+00  7.503433  33.998366  7.108154  154.048010  32.207339   \n",
       "2 -6.786108e-07  6.138481  31.493532  6.020325  161.577852  30.887331   \n",
       "3  8.974875e-01  3.286226  22.106771  2.876987  148.714480  19.353779   \n",
       "4  3.792658e+00  7.503433  33.998366  7.108154  154.048010  32.207339   \n",
       "\n",
       "      v85^2  target  \n",
       "0  2.914931       1  \n",
       "1  6.733697       1  \n",
       "2  5.904443       1  \n",
       "3  2.518711       1  \n",
       "4  6.733697       1  "
      ]
     },
     "execution_count": 12,
     "metadata": {},
     "output_type": "execute_result"
    }
   ],
   "source": [
    "poly_features.head()"
   ]
  },
  {
   "cell_type": "markdown",
   "metadata": {},
   "source": [
    "Several of the new variables have a greater (in terms of absolute magnitude) correlation with the target than the original features. When we build machine learning models, we can try with and without these features to determine if they actually help the model learn.\n",
    "\n",
    "We will add these features to a copy of the training and testing data and then evaluate models with and without the features. Many times in machine learning, the only way to know if an approach will work is to try it out!"
   ]
  },
  {
   "cell_type": "code",
   "execution_count": 118,
   "metadata": {},
   "outputs": [
    {
     "name": "stdout",
     "output_type": "stream",
     "text": [
      "Training data with polynomial features shape:  (114321, 123)\n",
      "Testing data with polynomial features shape:   (114393, 123)\n"
     ]
    }
   ],
   "source": [
    "# Put test features into dataframe\n",
    "poly_features_test = pd.DataFrame(poly_features_test, \n",
    "                                  columns = poly_transformer.get_feature_names(['v62', 'v119', 'v123', 'v48', 'v85']))\n",
    "\n",
    "# Merge polynomial features into training dataframe\n",
    "poly_features['ID'] = train['ID']\n",
    "train_poly = train.merge(poly_features, on = 'ID', how = 'left')\n",
    "\n",
    "# Merge polinomial features into testing dataframe\n",
    "poly_features_test['ID'] = test['ID']\n",
    "test_poly = test.merge(poly_features_test, on = 'ID', how = 'left')\n",
    "\n",
    "# Align the dataframes\n",
    "train_poly, test_poly = train_poly.align(test_poly, join = 'inner', axis = 1)\n",
    "\n",
    "# Print out the new shapes\n",
    "print('Training data with polynomial features shape: ', train_poly.shape)\n",
    "print('Testing data with polynomial features shape:  ', test_poly.shape)"
   ]
  },
  {
   "cell_type": "code",
   "execution_count": 119,
   "metadata": {},
   "outputs": [],
   "source": [
    "# Remove colunas com alta correlacao entre si ou com mais de 95% com zeros\n",
    "#train_poly = train_poly.drop(columns = ['1','v62_y','v119_y','v123_y','v48_y','v85_y'], axis = 1)"
   ]
  },
  {
   "cell_type": "code",
   "execution_count": 120,
   "metadata": {},
   "outputs": [],
   "source": [
    "num_cols = train_poly.columns[train_poly.dtypes.apply(lambda c: np.issubdtype(c, np.number))]"
   ]
  },
  {
   "cell_type": "raw",
   "metadata": {},
   "source": [
    "train_poly[num_cols].drop(columns = ['ID'], axis = 1)"
   ]
  },
  {
   "cell_type": "code",
   "execution_count": 121,
   "metadata": {},
   "outputs": [],
   "source": [
    "# Realizando tratamento de missing value (treino)\n",
    "for col in train_poly.columns:\n",
    "    if train_poly[col].dtype !='object':\n",
    "        if col in ['ID','target']:\n",
    "            continue\n",
    "\n",
    "        train_poly[col].fillna(train_poly[col].median(),inplace=True)\n",
    "        \n",
    "# Realizando tratamento de missing value (test)\n",
    "for col in test_poly.columns:\n",
    "    if test_poly[col].dtype !='object':\n",
    "        if col in ['ID','target']:\n",
    "            continue\n",
    "\n",
    "        test_poly[col].fillna(test_poly[col].median(),inplace=True)"
   ]
  },
  {
   "cell_type": "code",
   "execution_count": 122,
   "metadata": {},
   "outputs": [],
   "source": [
    "# Add decomposed components: PCA / ICA etc.\n",
    "n_comp = 12\n",
    "\n",
    "# tSVD\n",
    "tsvd = TruncatedSVD(n_components=n_comp, random_state=42)\n",
    "tsvd_results_train = tsvd.fit_transform(train_poly[num_cols].drop(columns = ['ID'], axis = 1))\n",
    "tsvd_results_test = tsvd.fit_transform(test_poly[num_cols].drop(columns = ['ID'], axis = 1))\n",
    "\n",
    "# PCA\n",
    "pca = PCA(n_components=n_comp, random_state=42)\n",
    "pca2_results_train = pca.fit_transform(train_poly[num_cols].drop(columns = ['ID'], axis = 1))\n",
    "pca2_results_test = pca.fit_transform(test_poly[num_cols].drop(columns = ['ID'], axis = 1))\n",
    "\n",
    "# ICA\n",
    "ica = FastICA(n_components=n_comp, random_state=42)\n",
    "ica2_results_train = ica.fit_transform(train_poly[num_cols].drop(columns = ['ID'], axis = 1))\n",
    "ica2_results_test = ica.fit_transform(test_poly[num_cols].drop(columns = ['ID'], axis = 1))\n",
    "\n",
    "# GRP\n",
    "grp = GaussianRandomProjection(n_components=n_comp, eps=0.1, random_state=42)\n",
    "grp_results_train = grp.fit_transform(train_poly[num_cols].drop(columns = ['ID'], axis = 1))\n",
    "grp_results_test = grp.fit_transform(test_poly[num_cols].drop(columns = ['ID'], axis = 1))\n",
    "\n",
    "# SRP\n",
    "srp = SparseRandomProjection(n_components=n_comp, dense_output=True, random_state=42)\n",
    "srp_results_train = srp.fit_transform(train_poly[num_cols].drop(columns = ['ID'], axis = 1))\n",
    "srp_results_test = srp.fit_transform(test_poly[num_cols].drop(columns = ['ID'], axis = 1))"
   ]
  },
  {
   "cell_type": "code",
   "execution_count": 124,
   "metadata": {},
   "outputs": [],
   "source": [
    "# Append decomposition components to datasets\n",
    "for i in range(1, n_comp+1):\n",
    "    train_poly['pca_' + str(i)]  = pca2_results_train[:,i-1]\n",
    "    train_poly['ica_' + str(i)]  = ica2_results_train[:,i-1]\n",
    "    train_poly['tsvd_' + str(i)] = tsvd_results_train[:,i-1]\n",
    "    train_poly['grp_' + str(i)]  = grp_results_train[:,i-1]\n",
    "    train_poly['srp_' + str(i)]  = srp_results_train[:,i-1]\n",
    "    \n",
    "    test_poly['pca_' + str(i)]  = pca2_results_test[:,i-1]\n",
    "    test_poly['ica_' + str(i)]  = ica2_results_test[:,i-1]\n",
    "    test_poly['tsvd_' + str(i)] = tsvd_results_test[:,i-1]\n",
    "    test_poly['grp_' + str(i)]  = grp_results_test[:,i-1]\n",
    "    test_poly['srp_' + str(i)]  = srp_results_test[:,i-1]    "
   ]
  },
  {
   "cell_type": "code",
   "execution_count": 126,
   "metadata": {},
   "outputs": [],
   "source": [
    "# Add in the target\n",
    "train_poly['target'] = poly_target"
   ]
  },
  {
   "cell_type": "markdown",
   "metadata": {},
   "source": [
    "# Gera dataset tratado"
   ]
  },
  {
   "cell_type": "code",
   "execution_count": 136,
   "metadata": {},
   "outputs": [],
   "source": [
    "# Memory reduce\n",
    "from pandas.api.types import is_datetime64_any_dtype as is_datetime\n",
    "from pandas.api.types import is_categorical_dtype\n",
    "\n",
    "def reduce_mem_usage(df, use_float16=False):\n",
    "    \"\"\" iterate through all the columns of a dataframe and modify the data type\n",
    "        to reduce memory usage.        \n",
    "    \"\"\"\n",
    "    start_mem = df.memory_usage().sum() / 1024**2\n",
    "    print('Memory usage of dataframe is {:.2f} MB'.format(start_mem))\n",
    "    \n",
    "    for col in df.columns:\n",
    "        if is_datetime(df[col]) or is_categorical_dtype(df[col]):\n",
    "            # skip datetime type or categorical type\n",
    "            continue\n",
    "        col_type = df[col].dtype\n",
    "        \n",
    "        if col_type != object:\n",
    "            c_min = df[col].min()\n",
    "            c_max = df[col].max()\n",
    "            if str(col_type)[:3] == 'int':\n",
    "                if c_min > np.iinfo(np.int8).min and c_max < np.iinfo(np.int8).max:\n",
    "                    df[col] = df[col].astype(np.int8)\n",
    "                elif c_min > np.iinfo(np.int16).min and c_max < np.iinfo(np.int16).max:\n",
    "                    df[col] = df[col].astype(np.int16)\n",
    "                elif c_min > np.iinfo(np.int32).min and c_max < np.iinfo(np.int32).max:\n",
    "                    df[col] = df[col].astype(np.int32)\n",
    "                elif c_min > np.iinfo(np.int64).min and c_max < np.iinfo(np.int64).max:\n",
    "                    df[col] = df[col].astype(np.int64)  \n",
    "            else:\n",
    "                if use_float16 and c_min > np.finfo(np.float16).min and c_max < np.finfo(np.float16).max:\n",
    "                    df[col] = df[col].astype(np.float16)\n",
    "                elif c_min > np.finfo(np.float32).min and c_max < np.finfo(np.float32).max:\n",
    "                    df[col] = df[col].astype(np.float32)\n",
    "                else:\n",
    "                    df[col] = df[col].astype(np.float64)\n",
    "    \n",
    "\n",
    "    end_mem = df.memory_usage().sum() / 1024**2\n",
    "    print('Memory usage after optimization is: {:.2f} MB'.format(end_mem))\n",
    "    print('Decreased by {:.1f}%'.format(100 * (start_mem - end_mem) / start_mem))\n",
    "    \n",
    "    return df"
   ]
  },
  {
   "cell_type": "code",
   "execution_count": 137,
   "metadata": {},
   "outputs": [
    {
     "name": "stdout",
     "output_type": "stream",
     "text": [
      "Memory usage of dataframe is 161.36 MB\n",
      "Memory usage after optimization is: 88.09 MB\n",
      "Decreased by 45.4%\n",
      "Memory usage of dataframe is 160.59 MB\n",
      "Memory usage after optimization is: 88.04 MB\n",
      "Decreased by 45.2%\n"
     ]
    }
   ],
   "source": [
    "treino=reduce_mem_usage(train_poly)\n",
    "teste=reduce_mem_usage(test_poly)"
   ]
  },
  {
   "cell_type": "code",
   "execution_count": 138,
   "metadata": {},
   "outputs": [],
   "source": [
    "treino.to_csv('../dataset/dataset_treino_new.csv', index=False)\n",
    "teste.to_csv('../dataset/dataset_teste_new.csv', index=False)"
   ]
  },
  {
   "cell_type": "code",
   "execution_count": null,
   "metadata": {},
   "outputs": [],
   "source": []
  }
 ],
 "metadata": {
  "kernelspec": {
   "display_name": "Python 3",
   "language": "python",
   "name": "python3"
  },
  "language_info": {
   "codemirror_mode": {
    "name": "ipython",
    "version": 3
   },
   "file_extension": ".py",
   "mimetype": "text/x-python",
   "name": "python",
   "nbconvert_exporter": "python",
   "pygments_lexer": "ipython3",
   "version": "3.7.4"
  },
  "widgets": {
   "application/vnd.jupyter.widget-state+json": {
    "state": {
     "03f293c5aaf34fd7a50a3b2bf14dab7d": {
      "model_module": "@jupyter-widgets/controls",
      "model_module_version": "1.5.0",
      "model_name": "DescriptionStyleModel",
      "state": {
       "_model_module": "@jupyter-widgets/controls",
       "_model_module_version": "1.5.0",
       "_model_name": "DescriptionStyleModel",
       "_view_count": null,
       "_view_module": "@jupyter-widgets/base",
       "_view_module_version": "1.2.0",
       "_view_name": "StyleView",
       "description_width": ""
      }
     },
     "0af695c1d5e24a17b3a2aebc133ddd39": {
      "model_module": "@jupyter-widgets/controls",
      "model_module_version": "1.5.0",
      "model_name": "HBoxModel",
      "state": {
       "_dom_classes": [],
       "_model_module": "@jupyter-widgets/controls",
       "_model_module_version": "1.5.0",
       "_model_name": "HBoxModel",
       "_view_count": null,
       "_view_module": "@jupyter-widgets/controls",
       "_view_module_version": "1.5.0",
       "_view_name": "HBoxView",
       "box_style": "",
       "children": [
        "IPY_MODEL_6782fd7c22664c55904d66122a64843b",
        "IPY_MODEL_9163f58ecd4f4a84922abc60cc69d789"
       ],
       "layout": "IPY_MODEL_d8264eeec6af442097559d8923081902"
      }
     },
     "1c88767c318e4d86a9ab43245f5daa77": {
      "model_module": "@jupyter-widgets/base",
      "model_module_version": "1.2.0",
      "model_name": "LayoutModel",
      "state": {
       "_model_module": "@jupyter-widgets/base",
       "_model_module_version": "1.2.0",
       "_model_name": "LayoutModel",
       "_view_count": null,
       "_view_module": "@jupyter-widgets/base",
       "_view_module_version": "1.2.0",
       "_view_name": "LayoutView",
       "align_content": null,
       "align_items": null,
       "align_self": null,
       "border": null,
       "bottom": null,
       "display": null,
       "flex": null,
       "flex_flow": null,
       "grid_area": null,
       "grid_auto_columns": null,
       "grid_auto_flow": null,
       "grid_auto_rows": null,
       "grid_column": null,
       "grid_gap": null,
       "grid_row": null,
       "grid_template_areas": null,
       "grid_template_columns": null,
       "grid_template_rows": null,
       "height": null,
       "justify_content": null,
       "justify_items": null,
       "left": null,
       "margin": null,
       "max_height": null,
       "max_width": null,
       "min_height": null,
       "min_width": null,
       "object_fit": null,
       "object_position": null,
       "order": null,
       "overflow": null,
       "overflow_x": null,
       "overflow_y": null,
       "padding": null,
       "right": null,
       "top": null,
       "visibility": null,
       "width": null
      }
     },
     "219092655bed428f83aeb751ccaa2a4d": {
      "model_module": "@jupyter-widgets/controls",
      "model_module_version": "1.5.0",
      "model_name": "ProgressStyleModel",
      "state": {
       "_model_module": "@jupyter-widgets/controls",
       "_model_module_version": "1.5.0",
       "_model_name": "ProgressStyleModel",
       "_view_count": null,
       "_view_module": "@jupyter-widgets/base",
       "_view_module_version": "1.2.0",
       "_view_name": "StyleView",
       "bar_color": null,
       "description_width": "initial"
      }
     },
     "44521ec2de994d5186cdf7d1e445d158": {
      "model_module": "@jupyter-widgets/base",
      "model_module_version": "1.2.0",
      "model_name": "LayoutModel",
      "state": {
       "_model_module": "@jupyter-widgets/base",
       "_model_module_version": "1.2.0",
       "_model_name": "LayoutModel",
       "_view_count": null,
       "_view_module": "@jupyter-widgets/base",
       "_view_module_version": "1.2.0",
       "_view_name": "LayoutView",
       "align_content": null,
       "align_items": null,
       "align_self": null,
       "border": null,
       "bottom": null,
       "display": null,
       "flex": null,
       "flex_flow": null,
       "grid_area": null,
       "grid_auto_columns": null,
       "grid_auto_flow": null,
       "grid_auto_rows": null,
       "grid_column": null,
       "grid_gap": null,
       "grid_row": null,
       "grid_template_areas": null,
       "grid_template_columns": null,
       "grid_template_rows": null,
       "height": null,
       "justify_content": null,
       "justify_items": null,
       "left": null,
       "margin": null,
       "max_height": null,
       "max_width": null,
       "min_height": null,
       "min_width": null,
       "object_fit": null,
       "object_position": null,
       "order": null,
       "overflow": null,
       "overflow_x": null,
       "overflow_y": null,
       "padding": null,
       "right": null,
       "top": null,
       "visibility": null,
       "width": null
      }
     },
     "6782fd7c22664c55904d66122a64843b": {
      "model_module": "@jupyter-widgets/controls",
      "model_module_version": "1.5.0",
      "model_name": "IntProgressModel",
      "state": {
       "_dom_classes": [],
       "_model_module": "@jupyter-widgets/controls",
       "_model_module_version": "1.5.0",
       "_model_name": "IntProgressModel",
       "_view_count": null,
       "_view_module": "@jupyter-widgets/controls",
       "_view_module_version": "1.5.0",
       "_view_name": "ProgressView",
       "bar_style": "success",
       "description": "100%",
       "description_tooltip": null,
       "layout": "IPY_MODEL_c5e6acfe3f654e7ca86e4cddf862e984",
       "max": 1000,
       "min": 0,
       "orientation": "horizontal",
       "style": "IPY_MODEL_219092655bed428f83aeb751ccaa2a4d",
       "value": 1000
      }
     },
     "9163f58ecd4f4a84922abc60cc69d789": {
      "model_module": "@jupyter-widgets/controls",
      "model_module_version": "1.5.0",
      "model_name": "HTMLModel",
      "state": {
       "_dom_classes": [],
       "_model_module": "@jupyter-widgets/controls",
       "_model_module_version": "1.5.0",
       "_model_name": "HTMLModel",
       "_view_count": null,
       "_view_module": "@jupyter-widgets/controls",
       "_view_module_version": "1.5.0",
       "_view_name": "HTMLView",
       "description": "",
       "description_tooltip": null,
       "layout": "IPY_MODEL_9a5c32201e5c447b829c604d757794df",
       "placeholder": "​",
       "style": "IPY_MODEL_b90e11ceb23b4a84a2f4908689dff66f",
       "value": " 1000/1000 [01:50&lt;00:00,  9.06it/s]"
      }
     },
     "9a5c32201e5c447b829c604d757794df": {
      "model_module": "@jupyter-widgets/base",
      "model_module_version": "1.2.0",
      "model_name": "LayoutModel",
      "state": {
       "_model_module": "@jupyter-widgets/base",
       "_model_module_version": "1.2.0",
       "_model_name": "LayoutModel",
       "_view_count": null,
       "_view_module": "@jupyter-widgets/base",
       "_view_module_version": "1.2.0",
       "_view_name": "LayoutView",
       "align_content": null,
       "align_items": null,
       "align_self": null,
       "border": null,
       "bottom": null,
       "display": null,
       "flex": null,
       "flex_flow": null,
       "grid_area": null,
       "grid_auto_columns": null,
       "grid_auto_flow": null,
       "grid_auto_rows": null,
       "grid_column": null,
       "grid_gap": null,
       "grid_row": null,
       "grid_template_areas": null,
       "grid_template_columns": null,
       "grid_template_rows": null,
       "height": null,
       "justify_content": null,
       "justify_items": null,
       "left": null,
       "margin": null,
       "max_height": null,
       "max_width": null,
       "min_height": null,
       "min_width": null,
       "object_fit": null,
       "object_position": null,
       "order": null,
       "overflow": null,
       "overflow_x": null,
       "overflow_y": null,
       "padding": null,
       "right": null,
       "top": null,
       "visibility": null,
       "width": null
      }
     },
     "a8bfc018378d49efa1570fcb43b496f3": {
      "model_module": "@jupyter-widgets/base",
      "model_module_version": "1.2.0",
      "model_name": "LayoutModel",
      "state": {
       "_model_module": "@jupyter-widgets/base",
       "_model_module_version": "1.2.0",
       "_model_name": "LayoutModel",
       "_view_count": null,
       "_view_module": "@jupyter-widgets/base",
       "_view_module_version": "1.2.0",
       "_view_name": "LayoutView",
       "align_content": null,
       "align_items": null,
       "align_self": null,
       "border": null,
       "bottom": null,
       "display": null,
       "flex": null,
       "flex_flow": null,
       "grid_area": null,
       "grid_auto_columns": null,
       "grid_auto_flow": null,
       "grid_auto_rows": null,
       "grid_column": null,
       "grid_gap": null,
       "grid_row": null,
       "grid_template_areas": null,
       "grid_template_columns": null,
       "grid_template_rows": null,
       "height": null,
       "justify_content": null,
       "justify_items": null,
       "left": null,
       "margin": null,
       "max_height": null,
       "max_width": null,
       "min_height": null,
       "min_width": null,
       "object_fit": null,
       "object_position": null,
       "order": null,
       "overflow": null,
       "overflow_x": null,
       "overflow_y": null,
       "padding": null,
       "right": null,
       "top": null,
       "visibility": null,
       "width": null
      }
     },
     "b90e11ceb23b4a84a2f4908689dff66f": {
      "model_module": "@jupyter-widgets/controls",
      "model_module_version": "1.5.0",
      "model_name": "DescriptionStyleModel",
      "state": {
       "_model_module": "@jupyter-widgets/controls",
       "_model_module_version": "1.5.0",
       "_model_name": "DescriptionStyleModel",
       "_view_count": null,
       "_view_module": "@jupyter-widgets/base",
       "_view_module_version": "1.2.0",
       "_view_name": "StyleView",
       "description_width": ""
      }
     },
     "c5e6acfe3f654e7ca86e4cddf862e984": {
      "model_module": "@jupyter-widgets/base",
      "model_module_version": "1.2.0",
      "model_name": "LayoutModel",
      "state": {
       "_model_module": "@jupyter-widgets/base",
       "_model_module_version": "1.2.0",
       "_model_name": "LayoutModel",
       "_view_count": null,
       "_view_module": "@jupyter-widgets/base",
       "_view_module_version": "1.2.0",
       "_view_name": "LayoutView",
       "align_content": null,
       "align_items": null,
       "align_self": null,
       "border": null,
       "bottom": null,
       "display": null,
       "flex": null,
       "flex_flow": null,
       "grid_area": null,
       "grid_auto_columns": null,
       "grid_auto_flow": null,
       "grid_auto_rows": null,
       "grid_column": null,
       "grid_gap": null,
       "grid_row": null,
       "grid_template_areas": null,
       "grid_template_columns": null,
       "grid_template_rows": null,
       "height": null,
       "justify_content": null,
       "justify_items": null,
       "left": null,
       "margin": null,
       "max_height": null,
       "max_width": null,
       "min_height": null,
       "min_width": null,
       "object_fit": null,
       "object_position": null,
       "order": null,
       "overflow": null,
       "overflow_x": null,
       "overflow_y": null,
       "padding": null,
       "right": null,
       "top": null,
       "visibility": null,
       "width": null
      }
     },
     "c95734415f404758ba787c86b58e7cc2": {
      "model_module": "@jupyter-widgets/controls",
      "model_module_version": "1.5.0",
      "model_name": "HBoxModel",
      "state": {
       "_dom_classes": [],
       "_model_module": "@jupyter-widgets/controls",
       "_model_module_version": "1.5.0",
       "_model_name": "HBoxModel",
       "_view_count": null,
       "_view_module": "@jupyter-widgets/controls",
       "_view_module_version": "1.5.0",
       "_view_name": "HBoxView",
       "box_style": "",
       "children": [
        "IPY_MODEL_d0cb9d8667c340c4b49fb7cf32acaf7c",
        "IPY_MODEL_e1aabb08150346cc9871c9f6b3bb5d36"
       ],
       "layout": "IPY_MODEL_1c88767c318e4d86a9ab43245f5daa77"
      }
     },
     "d0cb9d8667c340c4b49fb7cf32acaf7c": {
      "model_module": "@jupyter-widgets/controls",
      "model_module_version": "1.5.0",
      "model_name": "IntProgressModel",
      "state": {
       "_dom_classes": [],
       "_model_module": "@jupyter-widgets/controls",
       "_model_module_version": "1.5.0",
       "_model_name": "IntProgressModel",
       "_view_count": null,
       "_view_module": "@jupyter-widgets/controls",
       "_view_module_version": "1.5.0",
       "_view_name": "ProgressView",
       "bar_style": "success",
       "description": "100%",
       "description_tooltip": null,
       "layout": "IPY_MODEL_44521ec2de994d5186cdf7d1e445d158",
       "max": 17000,
       "min": 0,
       "orientation": "horizontal",
       "style": "IPY_MODEL_eec34a1f17e2477fb10e7c11419a1382",
       "value": 17000
      }
     },
     "d8264eeec6af442097559d8923081902": {
      "model_module": "@jupyter-widgets/base",
      "model_module_version": "1.2.0",
      "model_name": "LayoutModel",
      "state": {
       "_model_module": "@jupyter-widgets/base",
       "_model_module_version": "1.2.0",
       "_model_name": "LayoutModel",
       "_view_count": null,
       "_view_module": "@jupyter-widgets/base",
       "_view_module_version": "1.2.0",
       "_view_name": "LayoutView",
       "align_content": null,
       "align_items": null,
       "align_self": null,
       "border": null,
       "bottom": null,
       "display": null,
       "flex": null,
       "flex_flow": null,
       "grid_area": null,
       "grid_auto_columns": null,
       "grid_auto_flow": null,
       "grid_auto_rows": null,
       "grid_column": null,
       "grid_gap": null,
       "grid_row": null,
       "grid_template_areas": null,
       "grid_template_columns": null,
       "grid_template_rows": null,
       "height": null,
       "justify_content": null,
       "justify_items": null,
       "left": null,
       "margin": null,
       "max_height": null,
       "max_width": null,
       "min_height": null,
       "min_width": null,
       "object_fit": null,
       "object_position": null,
       "order": null,
       "overflow": null,
       "overflow_x": null,
       "overflow_y": null,
       "padding": null,
       "right": null,
       "top": null,
       "visibility": null,
       "width": null
      }
     },
     "e1aabb08150346cc9871c9f6b3bb5d36": {
      "model_module": "@jupyter-widgets/controls",
      "model_module_version": "1.5.0",
      "model_name": "HTMLModel",
      "state": {
       "_dom_classes": [],
       "_model_module": "@jupyter-widgets/controls",
       "_model_module_version": "1.5.0",
       "_model_name": "HTMLModel",
       "_view_count": null,
       "_view_module": "@jupyter-widgets/controls",
       "_view_module_version": "1.5.0",
       "_view_name": "HTMLView",
       "description": "",
       "description_tooltip": null,
       "layout": "IPY_MODEL_a8bfc018378d49efa1570fcb43b496f3",
       "placeholder": "​",
       "style": "IPY_MODEL_03f293c5aaf34fd7a50a3b2bf14dab7d",
       "value": " 17000/17000 [11:01&lt;00:00, 25.68it/s]"
      }
     },
     "eec34a1f17e2477fb10e7c11419a1382": {
      "model_module": "@jupyter-widgets/controls",
      "model_module_version": "1.5.0",
      "model_name": "ProgressStyleModel",
      "state": {
       "_model_module": "@jupyter-widgets/controls",
       "_model_module_version": "1.5.0",
       "_model_name": "ProgressStyleModel",
       "_view_count": null,
       "_view_module": "@jupyter-widgets/base",
       "_view_module_version": "1.2.0",
       "_view_name": "StyleView",
       "bar_color": null,
       "description_width": "initial"
      }
     }
    },
    "version_major": 2,
    "version_minor": 0
   }
  }
 },
 "nbformat": 4,
 "nbformat_minor": 1
}
